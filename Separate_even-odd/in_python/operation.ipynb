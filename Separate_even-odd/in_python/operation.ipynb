{
 "cells": [
  {
   "cell_type": "code",
   "execution_count": 35,
   "metadata": {},
   "outputs": [],
   "source": [
    "file_name = open(\"input.txt\", 'r')\n",
    "f = file_name.readlines()\n",
    "file_name.close()"
   ]
  },
  {
   "cell_type": "code",
   "execution_count": 34,
   "metadata": {},
   "outputs": [],
   "source": [
    "with open('odd.txt', 'w') as wr:\n",
    "    for x in f:\n",
    "        if int(x)%2 == 1:\n",
    "            wr.write(x)\n",
    "wr.close()\n",
    "\n",
    "with open('even.txt', 'w') as wr:\n",
    "    for x in f:\n",
    "        if int(x)%2 == 0:\n",
    "            wr.write(x)\n",
    "wr.close()\n"
   ]
  }
 ],
 "metadata": {
  "kernelspec": {
   "display_name": "Python 3",
   "language": "python",
   "name": "python3"
  },
  "language_info": {
   "codemirror_mode": {
    "name": "ipython",
    "version": 3
   },
   "file_extension": ".py",
   "mimetype": "text/x-python",
   "name": "python",
   "nbconvert_exporter": "python",
   "pygments_lexer": "ipython3",
   "version": "3.9.6"
  },
  "orig_nbformat": 4
 },
 "nbformat": 4,
 "nbformat_minor": 2
}
